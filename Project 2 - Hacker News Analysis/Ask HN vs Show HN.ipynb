{
 "cells": [
  {
   "cell_type": "markdown",
   "metadata": {
    "collapsed": true
   },
   "source": [
    "# Ask HN vs Show HN: What gets more attention?\n",
    "\n",
    "In this project, we will be exploring data consisting of posts made on the well known technology news website, [Hacker News](https://news.ycombinator.com/).\n",
    "\n",
    "The data consists of the following fields:\n",
    "\n",
    "- *id* - A unique identifiers\n",
    "- *title* - The title of the post\n",
    "- *url* - The link to the post\n",
    "- *num_points* - The difference between the upvotes and the downvotes the post acquired\n",
    "- *num_comments* - The number of comments the post acquired\n",
    "- *author* - The writer of the post\n",
    "- *created_at* - The date and time of the post\n",
    "\n",
    "We will ask ourselves the questions:\n",
    "\n",
    "1. Do Ask HN or Show HN posts receive more comments on average?\n",
    "2. Do posts created at a certain time receive more comments on average?\n",
    "\n",
    "Let's first read the file in and print the first five rows."
   ]
  },
  {
   "cell_type": "code",
   "execution_count": 2,
   "metadata": {
    "collapsed": false
   },
   "outputs": [
    {
     "name": "stdout",
     "output_type": "stream",
     "text": [
      "['id', 'title', 'url', 'num_points', 'num_comments', 'author', 'created_at']\n",
      "\n",
      "['12224879', 'Interactive Dynamic Video', 'http://www.interactivedynamicvideo.com/', '386', '52', 'ne0phyte', '8/4/2016 11:52']\n",
      "\n",
      "['10975351', 'How to Use Open Source and Shut the Fuck Up at the Same Time', 'http://hueniverse.com/2016/01/26/how-to-use-open-source-and-shut-the-fuck-up-at-the-same-time/', '39', '10', 'josep2', '1/26/2016 19:30']\n",
      "\n",
      "['11964716', \"Florida DJs May Face Felony for April Fools' Water Joke\", 'http://www.thewire.com/entertainment/2013/04/florida-djs-april-fools-water-joke/63798/', '2', '1', 'vezycash', '6/23/2016 22:20']\n",
      "\n",
      "['11919867', 'Technology ventures: From Idea to Enterprise', 'https://www.amazon.com/Technology-Ventures-Enterprise-Thomas-Byers/dp/0073523429', '3', '1', 'hswarna', '6/17/2016 0:01']\n",
      "\n"
     ]
    }
   ],
   "source": [
    "from csv import reader\n",
    "\n",
    "opened_file = open('hacker_news.csv')\n",
    "read_file = reader(opened_file)\n",
    "hn = list(read_file)\n",
    "index = 0\n",
    "\n",
    "for post in hn:\n",
    "    if index == 5:\n",
    "        break;\n",
    "    print(post)\n",
    "    print(\"\")\n",
    "    index += 1"
   ]
  },
  {
   "cell_type": "markdown",
   "metadata": {},
   "source": [
    "We'll remove the headers from the list so they we don't have to worry about them later. We know what the column names are."
   ]
  },
  {
   "cell_type": "code",
   "execution_count": 3,
   "metadata": {
    "collapsed": false
   },
   "outputs": [
    {
     "name": "stdout",
     "output_type": "stream",
     "text": [
      "['id', 'title', 'url', 'num_points', 'num_comments', 'author', 'created_at']\n",
      "['12224879', 'Interactive Dynamic Video', 'http://www.interactivedynamicvideo.com/', '386', '52', 'ne0phyte', '8/4/2016 11:52']\n",
      "\n",
      "['10975351', 'How to Use Open Source and Shut the Fuck Up at the Same Time', 'http://hueniverse.com/2016/01/26/how-to-use-open-source-and-shut-the-fuck-up-at-the-same-time/', '39', '10', 'josep2', '1/26/2016 19:30']\n",
      "\n",
      "['11964716', \"Florida DJs May Face Felony for April Fools' Water Joke\", 'http://www.thewire.com/entertainment/2013/04/florida-djs-april-fools-water-joke/63798/', '2', '1', 'vezycash', '6/23/2016 22:20']\n",
      "\n",
      "['11919867', 'Technology ventures: From Idea to Enterprise', 'https://www.amazon.com/Technology-Ventures-Enterprise-Thomas-Byers/dp/0073523429', '3', '1', 'hswarna', '6/17/2016 0:01']\n",
      "\n",
      "['10301696', 'Note by Note: The Making of Steinway L1037 (2007)', 'http://www.nytimes.com/2007/11/07/movies/07stein.html?_r=0', '8', '2', 'walterbell', '9/30/2015 4:12']\n",
      "\n"
     ]
    }
   ],
   "source": [
    "headers = hn[0]\n",
    "hn = hn[1:]\n",
    "print(headers)\n",
    "\n",
    "index = 0\n",
    "\n",
    "for post in hn:\n",
    "    if index == 5:\n",
    "        break;\n",
    "    print(post)\n",
    "    print(\"\")\n",
    "    index += 1"
   ]
  },
  {
   "cell_type": "markdown",
   "metadata": {},
   "source": [
    "### Splitting the Data Up\n",
    "\n",
    "We will now split the data so that we can focus on posts specifically dealing with Ask HN and Show HN posts."
   ]
  },
  {
   "cell_type": "code",
   "execution_count": 4,
   "metadata": {
    "collapsed": false
   },
   "outputs": [
    {
     "name": "stdout",
     "output_type": "stream",
     "text": [
      "Number of Ask HN posts: \n",
      "1744\n",
      "\n",
      "\n",
      "Number of Show HN posts: \n",
      "1162\n",
      "\n",
      "\n",
      "Number of other posts: \n",
      "17194\n"
     ]
    }
   ],
   "source": [
    "ask_posts = []\n",
    "show_posts = []\n",
    "other_posts = []\n",
    "\n",
    "for post in hn:\n",
    "    title = post[1]\n",
    "    \n",
    "    if title.lower().startswith(\"ask hn\"):\n",
    "        ask_posts.append(post)\n",
    "    elif title.lower().startswith(\"show hn\"):\n",
    "        show_posts.append(post)\n",
    "    else:\n",
    "        other_posts.append(post)\n",
    "\n",
    "print(\"Number of Ask HN posts: \")\n",
    "print(len(ask_posts))\n",
    "print(\"\\n\")\n",
    "\n",
    "print(\"Number of Show HN posts: \")\n",
    "print(len(show_posts))\n",
    "print(\"\\n\")\n",
    "\n",
    "print(\"Number of other posts: \")\n",
    "print(len(other_posts))"
   ]
  },
  {
   "cell_type": "markdown",
   "metadata": {},
   "source": [
    "As can be seen, the number of Ask and Show HN posts are overshadowed by other posts not relating to those two topics.\n",
    "\n",
    "This gives us a succint, yet plentiful amount of data to work with to answer our questions.\n",
    "\n",
    "## Question 1:Do Ask or Show HN have more comments on average?"
   ]
  },
  {
   "cell_type": "code",
   "execution_count": 13,
   "metadata": {
    "collapsed": false
   },
   "outputs": [
    {
     "name": "stdout",
     "output_type": "stream",
     "text": [
      "Average number of comments on Ask HN posts: 14.04\n"
     ]
    }
   ],
   "source": [
    "total_ask_comments = 0\n",
    "\n",
    "for post in ask_posts:\n",
    "    comments = post[4]\n",
    "    comments = int(comments)\n",
    "    total_ask_comments += comments\n",
    "\n",
    "avg_ask_comments = total_ask_comments / len(ask_posts)\n",
    "avg_ask = \"Average number of comments on Ask HN posts: {:.2f}\".format(avg_ask_comments)\n",
    "print(avg_ask)"
   ]
  },
  {
   "cell_type": "code",
   "execution_count": 14,
   "metadata": {
    "collapsed": false
   },
   "outputs": [
    {
     "name": "stdout",
     "output_type": "stream",
     "text": [
      "Average number of comments on Show HN posts: 10.32\n"
     ]
    }
   ],
   "source": [
    "total_show_comments = 0\n",
    "\n",
    "for post in show_posts:\n",
    "    comments = post[4]\n",
    "    comments = int(comments)\n",
    "    total_show_comments += comments\n",
    "\n",
    "avg_show_comments = total_show_comments / len(show_posts)\n",
    "avg_show = \"Average number of comments on Show HN posts: {:.2f}\".format(avg_show_comments)\n",
    "print(avg_show)"
   ]
  },
  {
   "cell_type": "markdown",
   "metadata": {},
   "source": [
    "From our output here, we can determine that the Ask HN posts get more comments on average than the Show HN posts do.\n",
    "\n",
    "This intuitively makes sense because Ask HN posts are all about getting answers to your specific questions. The point of those posts is to receive your answers through comments on the post. \n",
    "\n",
    "On the contrary, Show HN posts have less comments because an author is only posting about their work; they would love feedback, but the purpose of their post was not to receive comments, but attention through upvotes and views."
   ]
  },
  {
   "cell_type": "markdown",
   "metadata": {},
   "source": [
    "## Focusing on Ask HN: What timeframe has the most comments on average?\n",
    "\n",
    "### Creating the timeframes by hour\n",
    "\n",
    "Now that we know that Ask HN posts have, on average, more comments than Show HN posts, we will put all of our focus on those. \n",
    "\n",
    "We want to determine during what hour during the day that the most amount of comments on average are posted in Ask HN posts. To do this, we'll need to create datetime objects (which are either a date and time, just a date, or just a time). After that, we'll use them as keys in a dictionary and create a frequency table of how many comments during each hour."
   ]
  },
  {
   "cell_type": "code",
   "execution_count": 19,
   "metadata": {
    "collapsed": false
   },
   "outputs": [],
   "source": [
    "import datetime as dt\n",
    "\n",
    "result_list = []\n",
    "\n",
    "for post in ask_posts:\n",
    "    comments = post[4]\n",
    "    comments = int(comments)\n",
    "    result_list.append([post[6], comments])\n",
    "\n",
    "counts_by_hour = {}\n",
    "comments_by_hour = {}\n",
    "\n",
    "for row in result_list:\n",
    "    date = row[0]\n",
    "    date = dt.datetime.strptime(date, \"%m/%d/%Y %H:%M\")\n",
    "    hour = date.strftime(\"%H\")\n",
    "    \n",
    "    if hour not in counts_by_hour:\n",
    "        counts_by_hour[hour] = 1\n",
    "        comments_by_hour[hour] = row[1]\n",
    "    else:\n",
    "        counts_by_hour[hour] += 1\n",
    "        comments_by_hour[hour] += row[1]"
   ]
  },
  {
   "cell_type": "code",
   "execution_count": 24,
   "metadata": {
    "collapsed": false
   },
   "outputs": [
    {
     "name": "stdout",
     "output_type": "stream",
     "text": [
      "['22', 6.746478873239437]\n",
      "['23', 7.985294117647059]\n",
      "['21', 16.009174311926607]\n",
      "['08', 10.25]\n",
      "['18', 13.20183486238532]\n",
      "['19', 10.8]\n",
      "['16', 16.796296296296298]\n",
      "['20', 21.525]\n",
      "['00', 8.127272727272727]\n",
      "['04', 7.170212765957447]\n",
      "['14', 13.233644859813085]\n",
      "['01', 11.383333333333333]\n",
      "['05', 10.08695652173913]\n",
      "['06', 9.022727272727273]\n",
      "['09', 5.5777777777777775]\n",
      "['10', 13.440677966101696]\n",
      "['03', 7.796296296296297]\n",
      "['13', 14.741176470588234]\n",
      "['15', 38.5948275862069]\n",
      "['11', 11.051724137931034]\n",
      "['12', 9.41095890410959]\n",
      "['07', 7.852941176470588]\n",
      "['02', 23.810344827586206]\n",
      "['17', 11.46]\n"
     ]
    }
   ],
   "source": [
    "avg_by_hour = []\n",
    "\n",
    "for hour in counts_by_hour:\n",
    "    avg_by_hour.append([hour, comments_by_hour[hour] / counts_by_hour[hour]])\n",
    "    \n",
    "for post in avg_by_hour:\n",
    "    print(post)"
   ]
  },
  {
   "cell_type": "markdown",
   "metadata": {},
   "source": [
    "With this, we have created a list of lists that displays the hour of a post, followed by the average number of comments on posts posted during that hour. This is easy to follow, but it would be much more readable if they were sorted. We'll first swap the contents of the *avg_by_hour* list of lists and put it into a new list of lists."
   ]
  },
  {
   "cell_type": "code",
   "execution_count": 26,
   "metadata": {
    "collapsed": false
   },
   "outputs": [
    {
     "name": "stdout",
     "output_type": "stream",
     "text": [
      "[[6.746478873239437, '22'], [7.985294117647059, '23'], [16.009174311926607, '21'], [10.25, '08'], [13.20183486238532, '18'], [10.8, '19'], [16.796296296296298, '16'], [21.525, '20'], [8.127272727272727, '00'], [7.170212765957447, '04'], [13.233644859813085, '14'], [11.383333333333333, '01'], [10.08695652173913, '05'], [9.022727272727273, '06'], [5.5777777777777775, '09'], [13.440677966101696, '10'], [7.796296296296297, '03'], [14.741176470588234, '13'], [38.5948275862069, '15'], [11.051724137931034, '11'], [9.41095890410959, '12'], [7.852941176470588, '07'], [23.810344827586206, '02'], [11.46, '17']]\n"
     ]
    }
   ],
   "source": [
    "swap_avg_by_hour = []\n",
    "for row in avg_by_hour:\n",
    "    swap_avg_by_hour.append([row[1], row[0]])\n",
    "    \n",
    "print(swap_avg_by_hour)"
   ]
  },
  {
   "cell_type": "markdown",
   "metadata": {},
   "source": [
    "Now, we will sort them. The reason for the swap was so that the sorted function would sort by comments instead of by the hour."
   ]
  },
  {
   "cell_type": "code",
   "execution_count": 31,
   "metadata": {
    "collapsed": false
   },
   "outputs": [
    {
     "name": "stdout",
     "output_type": "stream",
     "text": [
      "Top 5 Hours for Ask HN Posts Comments\n",
      "15:00: 38.59 average comments per post\n",
      "02:00: 23.81 average comments per post\n",
      "20:00: 21.52 average comments per post\n",
      "16:00: 16.80 average comments per post\n",
      "21:00: 16.01 average comments per post\n"
     ]
    }
   ],
   "source": [
    "sorted_swap = sorted(swap_avg_by_hour, reverse = True)\n",
    "\n",
    "print(\"Top 5 Hours for Ask HN Posts Comments\")\n",
    "\n",
    "for avg, hour in sorted_swap[:5]:\n",
    "    date = dt.datetime.strptime(hour, \"%H\")\n",
    "    hour_of_post = date.strftime(\"%H:%M\")\n",
    "    print_string = \"{}: {:.2f} average comments per post\".format(hour_of_post, avg)\n",
    "    print(print_string)"
   ]
  },
  {
   "cell_type": "markdown",
   "metadata": {},
   "source": [
    "Given that I live in Eastern Time in the US, these times represent the exact hours to post an Ask HN post if you want to get a lot of responses. Listed above are the top 5 times. \n",
    "\n",
    "The best time to post in EST is at 3:00 P.M. Here is the same best time to post, but in other time zones:\n",
    "\n",
    "- **China**: 3:00 AM\n",
    "- **India**: 12:30 AM\n",
    "- **France**: 9:00 PM\n",
    "- **UK**: 8:00 PM\n",
    "- **Australia**: 5:00 AM"
   ]
  },
  {
   "cell_type": "markdown",
   "metadata": {},
   "source": [
    "# Conclusion: Ask Hacker News your Question at 3:00 PM!\n",
    "\n",
    "We began this project by describing the fields of the data and providing a couple of questions to be answered. After that, we cleaned the data by separating three types of posts on Hacker News from each other:\n",
    "\n",
    "1. Ask HN posts\n",
    "2. Show HN posts\n",
    "3. Other posts\n",
    "\n",
    "From there, we analyzed the average number of comments posted on Ask HN and Show HN posts to determine which one had the higher average. We came to the conclusion that Ask HN posts had more participation.\n",
    "\n",
    "After that, we focused on the Ask HN posts and granulated further by trying to figure out during what hour do posts receive the most amount of comments on average. We determined that at and around 3:00 PM EST to 4:00 PM EST, the most amount of comments on average were posted to Ask HN posts.\n",
    "\n",
    "I hope you find this project useful! If you ever have a question to ask Hacker News, now you know when the best time to post would be!\n",
    "\n",
    "Other questions we could explore would be:\n",
    "\n",
    "1. Do Show or Ask HN posts receive more points on average?\n",
    "2. During what hour timeframe do posts receive the most points on average?\n",
    "3. What author has posted the most during what hour?"
   ]
  },
  {
   "cell_type": "code",
   "execution_count": null,
   "metadata": {
    "collapsed": true
   },
   "outputs": [],
   "source": []
  }
 ],
 "metadata": {
  "kernelspec": {
   "display_name": "Python 3",
   "language": "python",
   "name": "python3"
  },
  "language_info": {
   "codemirror_mode": {
    "name": "ipython",
    "version": 3
   },
   "file_extension": ".py",
   "mimetype": "text/x-python",
   "name": "python",
   "nbconvert_exporter": "python",
   "pygments_lexer": "ipython3",
   "version": "3.4.3"
  }
 },
 "nbformat": 4,
 "nbformat_minor": 2
}
